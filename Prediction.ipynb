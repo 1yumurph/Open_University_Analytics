{
 "cells": [
  {
   "cell_type": "markdown",
   "metadata": {},
   "source": [
    "<h1> Data loading and preparation </h1>"
   ]
  },
  {
   "cell_type": "code",
   "execution_count": 207,
   "metadata": {},
   "outputs": [],
   "source": [
    "#Import libraries and loading datasets\n",
    "\n",
    "import numpy as np\n",
    "import pandas as pd\n",
    "import matplotlib.pyplot as plt\n",
    "import seaborn as sns\n",
    "from sklearn.metrics import accuracy_score\n",
    "from sklearn.model_selection import train_test_split\n",
    "from sklearn.ensemble import RandomForestClassifier\n",
    "from sklearn.svm.libsvm import predict_proba\n",
    "from sklearn.model_selection import GridSearchCV\n",
    "from sklearn.metrics import roc_curve\n",
    "\n",
    "vle = pd.read_csv('vle.csv')\n",
    "assessments = pd.read_csv('assessments.csv')\n",
    "courses = pd.read_csv('courses.csv')\n",
    "studentAssessment = pd.read_csv('studentAssessment.csv')\n",
    "studentInfo = pd.read_csv('studentInfo.csv')\n",
    "studentRegistration = pd.read_csv('studentRegistration.csv')\n",
    "studentVle = pd.read_csv('studentVle.csv')\n",
    "vle = pd.read_csv('vle.csv')"
   ]
  },
  {
   "cell_type": "code",
   "execution_count": 209,
   "metadata": {},
   "outputs": [],
   "source": [
    "# Calculate average clicks of students on VLE activity sites.\n",
    "\n",
    "clicks = studentVle.groupby(['id_student', 'code_module', 'code_presentation']).agg({'sum_click':'mean'})\n",
    "clicks.reset_index(level=[0, 1, 2], inplace=True)\n",
    "\n",
    "results_aged = pd.merge(studentInfo, \n",
    "                        clicks, \n",
    "                        how = 'left', \n",
    "                        left_on = ['id_student', 'code_module', 'code_presentation'], \n",
    "                        right_on = ['id_student', 'code_module', 'code_presentation'])"
   ]
  },
  {
   "cell_type": "code",
   "execution_count": 210,
   "metadata": {},
   "outputs": [],
   "source": [
    "# TO Add average delays in assessment submissions\n",
    "# result of this cell: the dataset results_aged2 will have column 'delay' \n",
    "#with average number of days between fixed assessment date and submission date by student. \n",
    "\n",
    "assessments_totalled = pd.merge(studentAssessment, \n",
    "                        assessments, \n",
    "                        how = 'left', \n",
    "                        left_on = ['id_assessment'], \n",
    "                        right_on = ['id_assessment'])\n",
    "assessments_totalled['delay'] = assessments_totalled['date_submitted'] - assessments_totalled['date']\n",
    "assessments_totalled\n",
    "\n",
    "student_delays = assessments_totalled.groupby(['code_presentation', 'code_module', 'id_student']).agg({'delay':'mean'})\n",
    "student_delays.reset_index(level=[0, 1, 2], inplace=True)\n",
    "\n",
    "results_aged1 = pd.merge(results_aged, \n",
    "                        student_delays, \n",
    "                        how = 'left', \n",
    "                        left_on = ['id_student', 'code_module', 'code_presentation'], \n",
    "                        right_on = ['id_student', 'code_module', 'code_presentation'])"
   ]
  },
  {
   "cell_type": "code",
   "execution_count": 266,
   "metadata": {},
   "outputs": [],
   "source": [
    "\n",
    "results_aged2 = pd.merge(results_aged1, \n",
    "                        studentRegistration, \n",
    "                        how = 'left', \n",
    "                        left_on = ['id_student', 'code_module', 'code_presentation'], \n",
    "                        right_on = ['id_student', 'code_module', 'code_presentation'])\n"
   ]
  },
  {
   "cell_type": "markdown",
   "metadata": {},
   "source": [
    "<h1>Scenario 1: RF multilabel model. </h1>"
   ]
  },
  {
   "cell_type": "code",
   "execution_count": 289,
   "metadata": {},
   "outputs": [],
   "source": [
    "# TO define and clean data for the RF model \n",
    "model_data = results_aged2[[\n",
    "#'id_student',\n",
    "'code_module',\n",
    "'code_presentation',\n",
    "'gender',\n",
    "'region',\n",
    "'highest_education',\n",
    "'imd_band',\n",
    "'age_band',\n",
    "'num_of_prev_attempts',\n",
    "'studied_credits',\n",
    "'disability',\n",
    "'sum_click',\n",
    "'delay',\n",
    "'date_registration',\n",
    "'final_result'\n",
    "]]\n",
    "\n",
    "model_data2 = model_data.copy()\n",
    "#1. model: predicting failures among courses that have been finalized\n",
    "#model_data2 = model_data2[model_data2['final_result'].isin(['Pass', 'Fail', 'Distinction'])]\n",
    "#model_data2['final_result'] = model_data2['final_result'].map(dict(Pass=1, Distinction=1, Fail = 0))\n",
    "\n",
    "#2. model: predicting failures/withdraws \n",
    "#model_data2['final_result'] = model_data2['final_result'].map(dict(Pass=1, Distinction=1, Fail = 0, Withdrawn = 0))\n",
    "\n",
    "#3. model: predicting withdraws\n",
    "#model_data2['final_result'] = model_data2['final_result'].map(dict(Pass=1, Distinction=1, Fail = 1, Withdrawn = 0))\n",
    "\n",
    "# model 4: predicting failures\n",
    "#model_data2['final_result'] = model_data2['final_result'].map(dict(Pass=1, Distinction=1, Fail = 0, Withdrawn = 1))\n",
    "\n",
    "# model 5: multilabel\n",
    "model_data2['final_result'] = model_data2['final_result'].map(dict(Pass=1, Distinction=2, Fail = 0, Withdrawn = -1))\n",
    "\n",
    "\n",
    "model_data2.gender = model_data2.gender.map(dict(M=1, F=0))\n",
    "model_data2.disability = model_data2.disability.map(dict(Y=1, N=0))\n",
    "\n",
    "text_columns = [\n",
    "'code_module',\n",
    "'code_presentation',\n",
    "'region',\n",
    "'highest_education',\n",
    "'imd_band',\n",
    "'age_band',\n",
    "'num_of_prev_attempts',\n",
    "'studied_credits'] \n",
    "\n",
    "model_data2 = pd.get_dummies(model_data2, columns=text_columns)"
   ]
  },
  {
   "cell_type": "code",
   "execution_count": 290,
   "metadata": {},
   "outputs": [],
   "source": [
    "#Clean data from 'na' values\n",
    "model_data2.sum_click = model_data2.sum_click.fillna(0)\n",
    "model_data2.date_registration = model_data2.date_registration.fillna(0)\n",
    "model_data2.delay = model_data2.delay.fillna(0)\n",
    "model_data2.reset_index(level=[0], inplace=True)"
   ]
  },
  {
   "cell_type": "code",
   "execution_count": 134,
   "metadata": {},
   "outputs": [
    {
     "data": {
      "text/plain": [
       "15705"
      ]
     },
     "execution_count": 134,
     "metadata": {},
     "output_type": "execute_result"
    }
   ],
   "source": []
  },
  {
   "cell_type": "code",
   "execution_count": 300,
   "metadata": {},
   "outputs": [
    {
     "name": "stdout",
     "output_type": "stream",
     "text": [
      "(6375, 117) (9129, 117) (11116, 117) (2713, 117) (3260, 117)\n"
     ]
    }
   ],
   "source": [
    "#Splitting data into main training and testing(validation) datasets, 70/30\n",
    "model_data_train = model_data2.sample(int(np.floor(model_data2.shape[0] * 0.9)), random_state=999)\n",
    "model_data_test = model_data2[np.logical_not(model_data2['index'].isin(model_data_train['index']))]\n",
    "\n",
    "print(model_data_train[model_data_train['final_result'] == 0].shape\n",
    "    , model_data_train[model_data_train['final_result'] == -1].shape\n",
    "    , model_data_train[model_data_train['final_result'] == 1].shape\n",
    "    , model_data_train[model_data_train['final_result'] == 2].shape\n",
    "     , model_data_test.shape)\n"
   ]
  },
  {
   "cell_type": "code",
   "execution_count": 301,
   "metadata": {},
   "outputs": [
    {
     "name": "stdout",
     "output_type": "stream",
     "text": [
      "(43847, 117)\n"
     ]
    }
   ],
   "source": [
    "# Undersampling\n",
    "model_data_train_0 = model_data_train[model_data_train['final_result'] == 0]\n",
    "model_data_train_1 = model_data_train[model_data_train['final_result'] == 1]\n",
    "model_data_train_2 = model_data_train[model_data_train['final_result'] == 2]\n",
    "model_data_train_3 = model_data_train[model_data_train['final_result'] == -1]\n",
    "\n",
    "\n",
    "model_data_train_new = pd.concat([model_data_train_0, model_data_train_0,\n",
    "                                  model_data_train_1,\n",
    "                                  model_data_train_2, model_data_train_2, model_data_train_2, model_data_train_2, \n",
    "                                  model_data_train_3, ])\n",
    "print(model_data_train_new.shape)\n",
    "\n"
   ]
  },
  {
   "cell_type": "code",
   "execution_count": null,
   "metadata": {},
   "outputs": [],
   "source": [
    "# model 2: Oversampling\n",
    "model_data_train_fail = model_data_train[model_data_train['final_result'] == 0]\n",
    "model_data_train_pass = model_data_train[model_data_train['final_result'] == 1]\n",
    "diff = model_data_train_fail.shape[0] - model_data_train_pass.shape[0]\n",
    "\n",
    "print(model_data_train_fail.shape, model_data_train_pass.shape)\n",
    "\n",
    "model_data_train_new = pd.concat([model_data_train_pass, \n",
    "                                  model_data_train_fail, \n",
    "                                  model_data_train_pass.sample(diff, random_state = 999)])\n",
    "print(model_data_train_new.shape)"
   ]
  },
  {
   "cell_type": "code",
   "execution_count": 292,
   "metadata": {},
   "outputs": [],
   "source": [
    "# model 5: Multilabel\n",
    "\n",
    "model_data_train_new = model_data_train"
   ]
  },
  {
   "cell_type": "code",
   "execution_count": 256,
   "metadata": {},
   "outputs": [
    {
     "name": "stdout",
     "output_type": "stream",
     "text": [
      "(6375, 117) (22958, 117)\n",
      "(42083, 117)\n"
     ]
    }
   ],
   "source": [
    "# Oversampling\n",
    "model_data_train_fail = model_data_train[model_data_train['final_result'] == 0]\n",
    "model_data_train_pass = model_data_train[model_data_train['final_result'] == 1]\n",
    "\n",
    "print(model_data_train_fail.shape, model_data_train_pass.shape)\n",
    "\n",
    "model_data_train_new = pd.concat([model_data_train_pass, model_data_train_fail, model_data_train_fail, model_data_train_fail])\n",
    "print(model_data_train_new.shape)\n"
   ]
  },
  {
   "cell_type": "code",
   "execution_count": 302,
   "metadata": {},
   "outputs": [],
   "source": [
    "#test_train_sample\n",
    "X_train, X_test, y_train, y_test = train_test_split(\n",
    "    model_data_train_new[model_data_train_new.columns.difference(['final_result'])],\n",
    "    model_data_train_new['final_result'], test_size=0.0, random_state=1)"
   ]
  },
  {
   "cell_type": "code",
   "execution_count": 195,
   "metadata": {},
   "outputs": [
    {
     "data": {
      "text/plain": [
       "{'criterion': 'entropy', 'max_depth': 50, 'n_estimators': 1100}"
      ]
     },
     "execution_count": 195,
     "metadata": {},
     "output_type": "execute_result"
    }
   ],
   "source": [
    "# GridSearch to find out the best performing parameters (!!! takes long time, ~50 min)\n",
    "param_grid = { \n",
    "    'n_estimators': [100, 500, 800, 1100],\n",
    "    'max_depth' : [10,20,30,50],\n",
    "#    'max_features': ['auto', 'sqrt', 'log2'],\n",
    "    'criterion' :['gini', 'entropy']\n",
    "}\n",
    "\n",
    "CV_rfc = GridSearchCV(estimator=RandomForestClassifier(random_state=1), param_grid=param_grid, cv= 5)\n",
    "CV_rfc.fit(X_train, y_train)\n",
    "CV_rfc.best_params_\n"
   ]
  },
  {
   "cell_type": "code",
   "execution_count": 303,
   "metadata": {},
   "outputs": [],
   "source": [
    "#Train the RF model\n",
    "rf = RandomForestClassifier(\n",
    "    n_estimators=1100, max_depth = 60, criterion = 'entropy', random_state = 0).fit(\n",
    "    X_train, y_train)"
   ]
  },
  {
   "cell_type": "code",
   "execution_count": 304,
   "metadata": {},
   "outputs": [
    {
     "data": {
      "text/plain": [
       "0.5733128834355828"
      ]
     },
     "execution_count": 304,
     "metadata": {},
     "output_type": "execute_result"
    }
   ],
   "source": [
    "# Run model on Test Validation data and see the accuracy\n",
    "test_dt = model_data_test[model_data_test.columns.difference(['final_result'])]\n",
    "test_dt_y = model_data_test.final_result\n",
    "acc = accuracy_score(test_dt_y, rf.predict(test_dt))\n",
    "acc"
   ]
  },
  {
   "cell_type": "code",
   "execution_count": null,
   "metadata": {},
   "outputs": [],
   "source": []
  },
  {
   "cell_type": "markdown",
   "metadata": {},
   "source": [
    "<H1> Scenario 2: Predict Withdrawns </h1>\n",
    "<h3> RF model binary label </h3>"
   ]
  },
  {
   "cell_type": "code",
   "execution_count": 320,
   "metadata": {},
   "outputs": [
    {
     "name": "stdout",
     "output_type": "stream",
     "text": [
      "(9129, 117) (20204, 117) (3260, 117)\n"
     ]
    }
   ],
   "source": [
    "# TO define and clean data for the RF model \n",
    "model_data = results_aged2[[\n",
    "#'id_student',\n",
    "'code_module',\n",
    "'code_presentation',\n",
    "'gender',\n",
    "'region',\n",
    "'highest_education',\n",
    "'imd_band',\n",
    "'age_band',\n",
    "'num_of_prev_attempts',\n",
    "'studied_credits',\n",
    "'disability',\n",
    "'sum_click',\n",
    "'delay',\n",
    "'date_registration',\n",
    "'final_result'\n",
    "]]\n",
    "\n",
    "model_data2 = model_data.copy()\n",
    "#1. model: predicting failures among courses that have been finalized\n",
    "#model_data2 = model_data2[model_data2['final_result'].isin(['Pass', 'Fail', 'Distinction'])]\n",
    "#model_data2['final_result'] = model_data2['final_result'].map(dict(Pass=1, Distinction=1, Fail = 0))\n",
    "\n",
    "#2. model: predicting failures/withdraws \n",
    "#model_data2['final_result'] = model_data2['final_result'].map(dict(Pass=1, Distinction=1, Fail = 0, Withdrawn = 0))\n",
    "\n",
    "#3. model: predicting withdraws\n",
    "model_data2['final_result'] = model_data2['final_result'].map(dict(Pass=1, Distinction=1, Fail = 1, Withdrawn = 0))\n",
    "\n",
    "# model 4: predicting failures\n",
    "#model_data2['final_result'] = model_data2['final_result'].map(dict(Pass=1, Distinction=1, Fail = 0, Withdrawn = 1))\n",
    "\n",
    "# model 5: multilabel\n",
    "#['final_result'] = model_data2['final_result'].map(dict(Pass=1, Distinction=1, Fail = 0, Withdrawn = -1))\n",
    "\n",
    "\n",
    "model_data2.gender = model_data2.gender.map(dict(M=1, F=0))\n",
    "model_data2.disability = model_data2.disability.map(dict(Y=1, N=0))\n",
    "\n",
    "text_columns = [\n",
    "'code_module',\n",
    "'code_presentation',\n",
    "'region',\n",
    "'highest_education',\n",
    "'imd_band',\n",
    "'age_band',\n",
    "'num_of_prev_attempts',\n",
    "'studied_credits'] \n",
    "\n",
    "model_data2 = pd.get_dummies(model_data2, columns=text_columns)\n",
    "\n",
    "#Clean data from 'na' values\n",
    "model_data2.sum_click = model_data2.sum_click.fillna(0)\n",
    "model_data2.date_registration = model_data2.date_registration.fillna(0)\n",
    "model_data2.delay = model_data2.delay.fillna(0)\n",
    "model_data2.reset_index(level=[0], inplace=True)\n",
    "\n",
    "#Splitting data into main training and testing(validation) datasets, 70/30\n",
    "model_data_train2 = model_data2.sample(int(np.floor(model_data2.shape[0] * 0.9)), random_state=999)\n",
    "model_data_test2 = model_data2[np.logical_not(model_data2['index'].isin(model_data_train2['index']))]\n",
    "\n",
    "print(model_data_train2[model_data_train2['final_result'] == 0].shape\n",
    "    , model_data_train2[model_data_train2['final_result'] == 1].shape\n",
    "     , model_data_test2.shape)\n"
   ]
  },
  {
   "cell_type": "code",
   "execution_count": 321,
   "metadata": {},
   "outputs": [
    {
     "name": "stdout",
     "output_type": "stream",
     "text": [
      "(9129, 117) (20204, 117)\n",
      "(40408, 117)\n"
     ]
    }
   ],
   "source": [
    "# model 2: Oversampling\n",
    "model_data_train_fail = model_data_train2[model_data_train2['final_result'] == 0]\n",
    "model_data_train_pass = model_data_train2[model_data_train2['final_result'] == 1]\n",
    "diff = 2*model_data_train_fail.shape[0] - model_data_train_pass.shape[0]\n",
    "\n",
    "print(model_data_train_fail.shape, model_data_train_pass.shape)\n",
    "\n",
    "model_data_train_new = pd.concat([model_data_train_pass, \n",
    "                                  model_data_train_fail, \n",
    "                                  model_data_train_fail, \n",
    "                                  model_data_train_fail.sample(abs(diff), random_state = 999)])\n",
    "print(model_data_train_new.shape)\n",
    "\n",
    "\n"
   ]
  },
  {
   "cell_type": "code",
   "execution_count": 322,
   "metadata": {},
   "outputs": [
    {
     "data": {
      "text/plain": [
       "0.8052147239263804"
      ]
     },
     "execution_count": 322,
     "metadata": {},
     "output_type": "execute_result"
    }
   ],
   "source": [
    "#test_train_sample\n",
    "X_train, X_test, y_train, y_test = train_test_split(\n",
    "    model_data_train_new[model_data_train_new.columns.difference(['final_result'])],\n",
    "    model_data_train_new['final_result'], test_size=0.0, random_state=1)\n",
    "\n",
    "#Train the RF model\n",
    "rf2 = RandomForestClassifier(\n",
    "    n_estimators=1100, max_depth = 60, criterion = 'entropy', random_state = 0).fit(\n",
    "    X_train, y_train)\n",
    "\n",
    "# Run model on Test Validation data and see the accuracy\n",
    "test_dt2 = model_data_test2[model_data_test2.columns.difference(['final_result'])]\n",
    "test_dt_y2 = model_data_test2.final_result\n",
    "acc = accuracy_score(test_dt_y2, rf2.predict(test_dt2))\n",
    "acc\n"
   ]
  },
  {
   "cell_type": "markdown",
   "metadata": {},
   "source": [
    "<h1> Scenario 3: Predict passing the course </h1> <h3>\n",
    "RF model binary label </h3>"
   ]
  },
  {
   "cell_type": "code",
   "execution_count": 323,
   "metadata": {},
   "outputs": [
    {
     "name": "stdout",
     "output_type": "stream",
     "text": [
      "(15504, 117) (13829, 117) (3260, 117)\n"
     ]
    }
   ],
   "source": [
    "# TO define and clean data for the RF model \n",
    "model_data = results_aged2[[\n",
    "#'id_student',\n",
    "'code_module',\n",
    "'code_presentation',\n",
    "'gender',\n",
    "'region',\n",
    "'highest_education',\n",
    "'imd_band',\n",
    "'age_band',\n",
    "'num_of_prev_attempts',\n",
    "'studied_credits',\n",
    "'disability',\n",
    "'sum_click',\n",
    "'delay',\n",
    "'date_registration',\n",
    "'final_result'\n",
    "]]\n",
    "\n",
    "model_data2 = model_data.copy()\n",
    "#1. model: predicting failures among courses that have been finalized\n",
    "#model_data2 = model_data2[model_data2['final_result'].isin(['Pass', 'Fail', 'Distinction'])]\n",
    "#model_data2['final_result'] = model_data2['final_result'].map(dict(Pass=1, Distinction=1, Fail = 0))\n",
    "\n",
    "#2. model: predicting failures/withdraws \n",
    "model_data2['final_result'] = model_data2['final_result'].map(dict(Pass=1, Distinction=1, Fail = 0, Withdrawn = 0))\n",
    "\n",
    "#3. model: predicting withdraws\n",
    "#model_data2['final_result'] = model_data2['final_result'].map(dict(Pass=1, Distinction=1, Fail = 1, Withdrawn = 0))\n",
    "\n",
    "# model 4: predicting failures\n",
    "#model_data2['final_result'] = model_data2['final_result'].map(dict(Pass=1, Distinction=1, Fail = 0, Withdrawn = 1))\n",
    "\n",
    "# model 5: multilabel\n",
    "#['final_result'] = model_data2['final_result'].map(dict(Pass=1, Distinction=1, Fail = 0, Withdrawn = -1))\n",
    "\n",
    "\n",
    "model_data2.gender = model_data2.gender.map(dict(M=1, F=0))\n",
    "model_data2.disability = model_data2.disability.map(dict(Y=1, N=0))\n",
    "\n",
    "text_columns = [\n",
    "'code_module',\n",
    "'code_presentation',\n",
    "'region',\n",
    "'highest_education',\n",
    "'imd_band',\n",
    "'age_band',\n",
    "'num_of_prev_attempts',\n",
    "'studied_credits'] \n",
    "\n",
    "model_data2 = pd.get_dummies(model_data2, columns=text_columns)\n",
    "\n",
    "#Clean data from 'na' values\n",
    "model_data2.sum_click = model_data2.sum_click.fillna(0)\n",
    "model_data2.date_registration = model_data2.date_registration.fillna(0)\n",
    "model_data2.delay = model_data2.delay.fillna(0)\n",
    "model_data2.reset_index(level=[0], inplace=True)\n",
    "\n",
    "#Splitting data into main training and testing(validation) datasets, 70/30\n",
    "model_data_train3 = model_data2.sample(int(np.floor(model_data2.shape[0] * 0.9)), random_state=999)\n",
    "model_data_test3 = model_data2[np.logical_not(model_data2['index'].isin(model_data_train3['index']))]\n",
    "\n",
    "print(model_data_train3[model_data_train3['final_result'] == 0].shape\n",
    "    , model_data_train3[model_data_train3['final_result'] == 1].shape\n",
    "     , model_data_test3.shape)\n"
   ]
  },
  {
   "cell_type": "code",
   "execution_count": 324,
   "metadata": {},
   "outputs": [
    {
     "name": "stdout",
     "output_type": "stream",
     "text": [
      "(15504, 117) (13829, 117)\n",
      "(31008, 117)\n"
     ]
    }
   ],
   "source": [
    "# model 2: Oversampling\n",
    "model_data_train_fail = model_data_train3[model_data_train3['final_result'] == 0]\n",
    "model_data_train_pass = model_data_train3[model_data_train3['final_result'] == 1]\n",
    "diff = model_data_train_fail.shape[0] - model_data_train_pass.shape[0]\n",
    "\n",
    "print(model_data_train_fail.shape, model_data_train_pass.shape)\n",
    "\n",
    "model_data_train_new = pd.concat([model_data_train_pass, \n",
    "                                  model_data_train_fail, \n",
    "                                  model_data_train_pass.sample(diff, random_state = 999)])\n",
    "print(model_data_train_new.shape)\n"
   ]
  },
  {
   "cell_type": "code",
   "execution_count": 325,
   "metadata": {},
   "outputs": [
    {
     "data": {
      "text/plain": [
       "0.7868098159509203"
      ]
     },
     "execution_count": 325,
     "metadata": {},
     "output_type": "execute_result"
    }
   ],
   "source": [
    "#test_train_sample\n",
    "X_train, X_test, y_train, y_test = train_test_split(\n",
    "    model_data_train_new[model_data_train_new.columns.difference(['final_result'])],\n",
    "    model_data_train_new['final_result'], test_size=0.0, random_state=1)\n",
    "\n",
    "#Train the RF model\n",
    "rf3 = RandomForestClassifier(\n",
    "    n_estimators=1100, max_depth = 60, criterion = 'entropy', random_state = 0).fit(\n",
    "    X_train, y_train)\n",
    "\n",
    "# Run model on Test Validation data and see the accuracy\n",
    "test_dt3 = model_data_test3[model_data_test.columns.difference(['final_result'])]\n",
    "test_dt_y3 = model_data_test3.final_result\n",
    "acc = accuracy_score(test_dt_y3, rf3.predict(test_dt3))\n",
    "acc\n"
   ]
  },
  {
   "cell_type": "markdown",
   "metadata": {},
   "source": [
    "<h1> ROC Curve and Plotting </h1>"
   ]
  },
  {
   "cell_type": "markdown",
   "metadata": {},
   "source": [
    "<h3> ROC dataframe for Passing the course <h3>"
   ]
  },
  {
   "cell_type": "code",
   "execution_count": 328,
   "metadata": {},
   "outputs": [
    {
     "data": {
      "image/png": "[encoded data removed]",
      "text/plain": [
       "<Figure size 576x432 with 1 Axes>"
      ]
     },
     "metadata": {},
     "output_type": "display_data"
    }
   ],
   "source": [
    "# R O C\n",
    "from sklearn.svm.libsvm import predict_proba\n",
    "\n",
    "probs = pd.DataFrame(rf3.predict_proba(test_dt3))\n",
    "probs = probs[1]\n",
    "cutoffs = pd.DataFrame({'cutoff':probs.unique()}) \n",
    "cutoffs = cutoffs.sort_values('cutoff')\n",
    "tpr = cutoffs.apply(lambda cut: np.sum(np.logical_and(probs >= cut[0], model_data_test3.final_result == 1)) / np.sum(model_data_test3.final_result == 1), axis=1)\n",
    "fpr = cutoffs.apply(lambda cut: np.sum(np.logical_and(probs >= cut[0], model_data_test3.final_result == 0)) / np.sum(model_data_test3.final_result == 0), axis=1)\n",
    "stats = pd.DataFrame({'cutoff':cutoffs.cutoff, 'tpr':tpr, 'fpr':fpr})"
   ]
  },
  {
   "cell_type": "code",
   "execution_count": 350,
   "metadata": {},
   "outputs": [
    {
     "data": {
      "image/png": "[encoded data removed]",
      "text/plain": [
       "<Figure size 1008x792 with 1 Axes>"
      ]
     },
     "metadata": {},
     "output_type": "display_data"
    }
   ],
   "source": [
    "# R O C\n",
    "from sklearn.svm.libsvm import predict_proba\n",
    "\n",
    "probs = pd.DataFrame(rf2.predict_proba(test_dt2))\n",
    "probs = probs[1]\n",
    "cutoffs = pd.DataFrame({'cutoff':probs.unique()}) \n",
    "cutoffs = cutoffs.sort_values('cutoff')\n",
    "\n",
    "tpr = cutoffs.apply(lambda cut: np.sum(np.logical_and(probs >= cut[0], model_data_test2.final_result == 1)) / np.sum(model_data_test2.final_result == 1), axis=1)\n",
    "fpr = cutoffs.apply(lambda cut: np.sum(np.logical_and(probs >= cut[0], model_data_test2.final_result == 0)) / np.sum(model_data_test2.final_result == 0), axis=1)\n",
    "stats2 = pd.DataFrame({'cutoff':cutoffs.cutoff, 'tpr':tpr, 'fpr':fpr})\n",
    "\n",
    "#rf_df = pd.DataFrame({'prob':probs,'class':rf.predict(test_dt)})\n",
    "#pd.set_option('display.max_rows', 4000)\n",
    "#rf_df.sort_values('prob')\n",
    "\n",
    "pd.set_option('display.max_rows', 10)\n",
    "rf_val = pd.DataFrame({'actual':model_data_test2.final_result,'predicted':rf2.predict(test_dt2)})\n",
    "rf_val[rf_val.actual == rf_val.predicted].shape[0] / rf_val.shape[0]\n",
    "\n",
    "#default_cutoff = 0.501250\n",
    "\n",
    "default_tpr = np.sum(np.logical_and(probs >= default_cutoff, model_data_test2.final_result == 1)) / np.sum(model_data_test2.final_result == 1)\n",
    "default_fpr = np.sum(np.logical_and(probs >= default_cutoff, model_data_test2.final_result == 0)) / np.sum(model_data_test2.final_result == 0)\n",
    "#roc_curve(stats)\n",
    "figure = plt.figure(figsize=(14,11))\n",
    "plt.plot(stats2.fpr, stats2.tpr, '-', marker='o', markersize=1, color = \"navy\", label=\"Prediction: Passing / Not Passing the course. Accuracy ~81 %\")\n",
    "plt.plot(stats.fpr, stats.tpr, '-', marker='o', markersize=1, color = \"blue\", label = \"Predictio: Complete / Withdrawn of the course. Accuracy ~79 %\")\n",
    "#plt.plot(default_fpr, default_tpr, color='crimson', marker='o', markersize=8)\n",
    "#plt.annotate('', xy = (default_fpr, default_tpr), xytext=(0.5, 0.75), color=\"blacredk\", size=15)\n",
    "plt.plot([0,1],[0,1],'--',linewidth=1, markersize=2, color = \"crimson\")\n",
    "plt.legend(loc=4, fontsize='x-large')\n",
    "plt.show()\n"
   ]
  },
  {
   "cell_type": "code",
   "execution_count": null,
   "metadata": {},
   "outputs": [],
   "source": []
  },
  {
   "cell_type": "code",
   "execution_count": null,
   "metadata": {},
   "outputs": [],
   "source": []
  },
  {
   "cell_type": "code",
   "execution_count": null,
   "metadata": {},
   "outputs": [],
   "source": []
  }
 ],
 "metadata": {
  "kernelspec": {
   "display_name": "Python 3",
   "language": "python",
   "name": "python3"
  },
  "language_info": {
   "codemirror_mode": {
    "name": "ipython",
    "version": 3
   },
   "file_extension": ".py",
   "mimetype": "text/x-python",
   "name": "python",
   "nbconvert_exporter": "python",
   "pygments_lexer": "ipython3",
   "version": "3.6.5"
  }
 },
 "nbformat": 4,
 "nbformat_minor": 2
}
